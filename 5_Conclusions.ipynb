{
 "cells": [
  {
   "cell_type": "markdown",
   "id": "155fa66b-7e4f-4dfd-b4a3-5b3335af2869",
   "metadata": {},
   "source": [
    "# Conclusions"
   ]
  },
  {
   "cell_type": "markdown",
   "id": "9afeb2c6-b446-452b-8de3-20208d833803",
   "metadata": {},
   "source": [
    "When I began this project I had hypothesized that demographics such as family size, citizenship, and age group would be major categories highlighting high risk of food insecurity. The results however, contradicted this hypothesis. "
   ]
  },
  {
   "cell_type": "markdown",
   "id": "fbb7aed4-ce16-4e14-8ac3-5a8bf4dd3eab",
   "metadata": {},
   "source": [
    "![title](r\".\\SNAP\\images\\ind_features\\single_mom.png\")"
   ]
  },
  {
   "cell_type": "markdown",
   "id": "99bbd2e1-de6e-418d-b121-026f2803a4cb",
   "metadata": {},
   "source": [
    "There were less single moms applying for Food Stamps in 2017 than 2007."
   ]
  },
  {
   "cell_type": "markdown",
   "id": "a92cb9f4-ff6f-4ad6-a9e4-9760b4c03bec",
   "metadata": {},
   "source": [
    "![title](C:\\Users\\Bhakt\\Desktop\\SNAP\\images\\ind_features\\elderly.png)"
   ]
  },
  {
   "cell_type": "markdown",
   "id": "39ed7439-cc43-4fb2-b3fc-21e944f57834",
   "metadata": {},
   "source": [
    "Few households were taking care of elderly relatives."
   ]
  },
  {
   "cell_type": "markdown",
   "id": "2aad139d-81af-4ae8-802e-64efbe7d20da",
   "metadata": {},
   "source": [
    "![title](r.\"\\SNAP\\images\\ind_features\\no_toddler.png\")"
   ]
  },
  {
   "cell_type": "markdown",
   "id": "b10165df-3798-4910-8be9-834a96f8e419",
   "metadata": {},
   "source": [
    "![title](C:\\Users\\Bhakt\\Desktop\\SNAP\\images\\ind_features\\no_children.png)"
   ]
  },
  {
   "cell_type": "markdown",
   "id": "2a37a34d-b56d-46b2-9c30-401e6c3aa48c",
   "metadata": {},
   "source": [
    "The graphs cumulatively show that most families were smaller in size."
   ]
  },
  {
   "cell_type": "markdown",
   "id": "e13d0868-f7b2-4ab1-9a6f-6e13448e82f5",
   "metadata": {},
   "source": [
    "![title](r.\"\\SNAP\\images\\ind_features\\non_citiz.png\")"
   ]
  },
  {
   "cell_type": "markdown",
   "id": "ab2a260b-c677-45d1-bdcf-baa53bba543f",
   "metadata": {},
   "source": [
    "Almost 100% of individuals in households are US citizens."
   ]
  },
  {
   "cell_type": "markdown",
   "id": "2cc2a2aa-76c9-4266-a8ad-e322b5c9cd17",
   "metadata": {},
   "source": [
    "As I ran  the correlations, I noticed some patterns.\n",
    "\n",
    "1. New mexico saw 100 less working low income households on SNAP in 2017. While Nebraska saw 50 more in 2017\n",
    "2. In 2007, SNAP reciepients recieved less assistance from other welfare programs in 2017."
   ]
  },
  {
   "cell_type": "markdown",
   "id": "ee6e01cf-9829-448e-8e77-d2bfc17fabd2",
   "metadata": {},
   "source": [
    "![title](r.\"\\SNAP\\images\\ind_features\\wrk_pr.png\")"
   ]
  },
  {
   "cell_type": "markdown",
   "id": "1c490045-a69e-4a84-b085-0c2a32713f64",
   "metadata": {},
   "source": [
    "![title](C:\\Users\\Bhakt\\Desktop\\SNAP\\images\\ind_features\\unit_unearn.png)"
   ]
  },
  {
   "cell_type": "markdown",
   "id": "4ee6ef44-dd8a-49c0-8fc9-5983d6cf2b68",
   "metadata": {},
   "source": [
    "Once I combined the data into a single dataset, I tested various interpretable models to determine which would be optimal for predicting features of households that would need SNAP assistance. I decided on a Random Forest, Gradeint Boost, and Bagging Classifier within a Vote Classifier. When I ran a gridsearch for the best parameters I found that bootstrapping within the Bagging Classifier was ideal. The bagging classifier had boosted precision and recall to 95%.  "
   ]
  },
  {
   "cell_type": "markdown",
   "id": "536f3924-7cd9-42de-9e5e-d0828b57ce7a",
   "metadata": {},
   "source": [
    "![title](r.\"\\SNAP\\images\\rf_corr.png\")"
   ]
  },
  {
   "cell_type": "markdown",
   "id": "97d039f3-98a6-44ee-a5fb-8a95117cb6a6",
   "metadata": {},
   "source": [
    "Contradictory to my hypothesis, the result of the sklearn.treeinterpreter model was that housing related features were the biggest indicator of high food insecurity.\n",
    "\n",
    "- FSSLTDED and SHELDED are indicators of how much someone is paying for their home.\n",
    "- FSTOTDED and FSSTDDE2 are deductions relating to housing."
   ]
  },
  {
   "cell_type": "markdown",
   "id": "a6706acf-e402-4edd-8357-b78d39ea98c8",
   "metadata": {},
   "source": [
    "![title](C:\\Users\\Bhakt\\Desktop\\SNAP\\images\\SNAP2018predsyes.png)"
   ]
  },
  {
   "cell_type": "markdown",
   "id": "c98beabb-3c02-44d8-89b9-76a8434805a0",
   "metadata": {},
   "source": [
    "![title](C:\\Users\\Bhakt\\Desktop\\SNAP\\images\\SNAP1FSSLTDED2018.png)"
   ]
  },
  {
   "cell_type": "markdown",
   "id": "f208903a-89c6-4fe9-81ad-bb1dce9ca469",
   "metadata": {},
   "source": [
    "![title](C:\\Users\\Bhakt\\Desktop\\SNAP\\images\\SNAP2SHELDED.png)"
   ]
  },
  {
   "cell_type": "markdown",
   "id": "00fa626f-bdca-4492-828b-b4a66f95ff6b",
   "metadata": {},
   "source": [
    "I utilized QGIS to create these map predictions for 2018. They illustrate that there is a correlation with less housing assistance/deduction for housing allowances that correspond with areas of higher SNAP use. "
   ]
  },
  {
   "cell_type": "code",
   "execution_count": null,
   "id": "69bd70e4-2826-46d3-9555-77265979161d",
   "metadata": {},
   "outputs": [],
   "source": []
  }
 ],
 "metadata": {
  "kernelspec": {
   "display_name": "Python 3",
   "language": "python",
   "name": "python3"
  },
  "language_info": {
   "codemirror_mode": {
    "name": "ipython",
    "version": 3
   },
   "file_extension": ".py",
   "mimetype": "text/x-python",
   "name": "python",
   "nbconvert_exporter": "python",
   "pygments_lexer": "ipython3",
   "version": "3.8.8"
  }
 },
 "nbformat": 4,
 "nbformat_minor": 5
}
