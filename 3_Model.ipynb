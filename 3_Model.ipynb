{
 "cells": [
  {
   "cell_type": "markdown",
   "id": "704d86b7-e7f7-4b41-b35c-b578e3604313",
   "metadata": {},
   "source": [
    "# Model"
   ]
  },
  {
   "cell_type": "markdown",
   "id": "3df54b56-2ae7-4c7b-88d9-eb5f5967d088",
   "metadata": {},
   "source": [
    "In this notebook, I will test some models to determine which model performs best. I want my final model to be interpretable so I will only be testing white box models."
   ]
  },
  {
   "cell_type": "markdown",
   "id": "c3d3d354-38de-4af7-a381-14c23a935c9a",
   "metadata": {},
   "source": [
    "## Table of Contents\n",
    "* [Imports](#Imports)\n",
    "* [Data Prep](#Data_Prep)\n",
    "* [Models](#Models)\n",
    "   * [Overview model selection](#Overview_Model_Selection)\n",
    "   * [Model Selection](#Model_Selection)\n",
    "* [Running Models](#Running_Models)\n",
    "   * [Random Forest](#Random_Forest)\n",
    "   * [Extra Tree Classifier](#Extra_Tree_Classifier)\n",
    "   * [Bagging Classifier](#Bagging_Classifier)\n",
    "   * [Vote Ensemble Random Forest](#Vote_Ensemble_Random_Forest)\n",
    "* [Final Model](#Final_Model)"
   ]
  },
  {
   "cell_type": "markdown",
   "id": "ca6f6cce-d918-4383-8569-41b5fd113651",
   "metadata": {},
   "source": [
    "# Imports"
   ]
  },
  {
   "cell_type": "code",
   "execution_count": 1,
   "id": "7764637c-2e96-4e2f-a8f2-a38dbf8fe1ca",
   "metadata": {},
   "outputs": [],
   "source": [
    "import pandas as pd\n",
    "import numpy as np\n",
    "import matplotlib.pyplot as plt\n",
    "import seaborn as sns\n",
    "from pylab import rcParams\n",
    "random_state = 42\n",
    "import autoreload\n",
    "%load_ext autoreload\n",
    "%autoreload 2\n",
    "import python_code.Scripts as sc\n",
    "import python_code.Reference as ref\n",
    "import pickle\n",
    "\n",
    "from sklearn.model_selection import train_test_split,cross_val_score,GridSearchCV\n",
    "from sklearn.metrics import accuracy_score,classification_report,confusion_matrix,recall_score,precision_score\n",
    "from treeinterpreter import treeinterpreter as ti\n",
    "from sklearn.preprocessing import StandardScaler\n",
    "from sklearn.decomposition import PCA\n",
    "\n",
    "from sklearn.linear_model import LogisticRegression\n",
    "from sklearn.tree import DecisionTreeClassifier,ExtraTreeClassifier\n",
    "from sklearn.ensemble import RandomForestClassifier,GradientBoostingClassifier,AdaBoostClassifier,BaggingClassifier, VotingClassifier\n",
    "from sklearn.svm import SVC\n",
    "from sklearn.naive_bayes import GaussianNB"
   ]
  },
  {
   "cell_type": "code",
   "execution_count": 2,
   "id": "ad881360-b038-447a-82aa-160fd0f0e3c6",
   "metadata": {},
   "outputs": [],
   "source": [
    "df = pd.read_csv(\"./SNAP_data/final.csv\")"
   ]
  },
  {
   "cell_type": "code",
   "execution_count": 3,
   "id": "88a6dcb7-8c04-4b30-ab47-e6dca2b528ff",
   "metadata": {},
   "outputs": [
    {
     "name": "stdout",
     "output_type": "stream",
     "text": [
      "<class 'pandas.core.frame.DataFrame'>\n",
      "RangeIndex: 3904 entries, 0 to 3903\n",
      "Data columns (total 33 columns):\n",
      " #   Column    Non-Null Count  Dtype  \n",
      "---  ------    --------------  -----  \n",
      " 0   LIQRESOR  3904 non-null   float64\n",
      " 1   REALPROP  3904 non-null   float64\n",
      " 2   WRK_POOR  3904 non-null   float64\n",
      " 3   RAWNET    3904 non-null   float64\n",
      " 4   FSNONCIT  3904 non-null   float64\n",
      " 5   FSTANF    3904 non-null   float64\n",
      " 6   FSERNDED  3904 non-null   float64\n",
      " 7   SHELDED   3904 non-null   float64\n",
      " 8   CERTHHSZ  3904 non-null   float64\n",
      " 9   HWGT      3904 non-null   float64\n",
      " 10  FSSLTDE2  3904 non-null   float64\n",
      " 11  FSGRINC   3904 non-null   float64\n",
      " 12  FSEARN    3904 non-null   float64\n",
      " 13  FSSTDDE2  3904 non-null   float64\n",
      " 14  FSTOTDE2  3904 non-null   float64\n",
      " 15  FSTOTDED  3904 non-null   float64\n",
      " 16  RAWERND   3904 non-null   float64\n",
      " 17  FSUNEARN  3904 non-null   float64\n",
      " 18  TANF_IND  3904 non-null   float64\n",
      " 19  FSNELDER  3904 non-null   float64\n",
      " 20  TPOV      3904 non-null   float64\n",
      " 21  FSSLTDED  3904 non-null   float64\n",
      " 22  FSDIS     3904 non-null   float64\n",
      " 23  FSASSET   3904 non-null   float64\n",
      " 24  FSERNDE2  3904 non-null   float64\n",
      " 25  FSWAGES   3904 non-null   float64\n",
      " 26  FSUSIZE   3904 non-null   float64\n",
      " 27  FSSSI     3904 non-null   float64\n",
      " 28  FSNETINC  3904 non-null   float64\n",
      " 29  FSGA      3904 non-null   float64\n",
      " 30  CAT_ELIG  3904 non-null   float64\n",
      " 31  VEHICLEA  3904 non-null   float64\n",
      " 32  FSVEHAST  3904 non-null   float64\n",
      "dtypes: float64(33)\n",
      "memory usage: 1006.6 KB\n"
     ]
    }
   ],
   "source": [
    "df.info()"
   ]
  },
  {
   "cell_type": "markdown",
   "id": "a240adbc-f69f-414d-bd85-c5a707a6ed63",
   "metadata": {},
   "source": [
    "# Data Prep"
   ]
  },
  {
   "cell_type": "code",
   "execution_count": 4,
   "id": "4c9ebda5-df84-41f4-80e9-45874ab4ab48",
   "metadata": {},
   "outputs": [],
   "source": [
    "X = df.drop(columns = ['CAT_ELIG'])\n",
    "y = df['CAT_ELIG']"
   ]
  },
  {
   "cell_type": "code",
   "execution_count": 5,
   "id": "c71855f9-e1ce-414d-b095-7f3ec22f3e84",
   "metadata": {},
   "outputs": [
    {
     "data": {
      "text/plain": [
       "1.0    0.662398\n",
       "0.0    0.337602\n",
       "Name: CAT_ELIG, dtype: float64"
      ]
     },
     "execution_count": 5,
     "metadata": {},
     "output_type": "execute_result"
    }
   ],
   "source": [
    "#baseline, NULL Model\n",
    "y.value_counts(normalize=True)"
   ]
  },
  {
   "cell_type": "code",
   "execution_count": 6,
   "id": "624e2b47-b448-4776-8d1e-ae056c231142",
   "metadata": {},
   "outputs": [],
   "source": [
    "X_train, X_test, y_train, y_test = train_test_split(X,y,test_size=.3,random_state=random_state)"
   ]
  },
  {
   "cell_type": "code",
   "execution_count": 7,
   "id": "814ba2c2-19d2-46ce-b2b0-5798608b7bdc",
   "metadata": {},
   "outputs": [],
   "source": [
    "ss = StandardScaler()\n",
    "X_train = ss.fit_transform(X_train)\n",
    "X_test = ss.transform(X_test)"
   ]
  },
  {
   "cell_type": "code",
   "execution_count": 8,
   "id": "22b80d14-067f-4b33-83b8-0c3d10b44ece",
   "metadata": {},
   "outputs": [],
   "source": [
    "np.savetxt('./SNAP_data/TrainTest/X_train.csv',X_train,delimiter=',')\n",
    "np.savetxt('./SNAP_data/TrainTest/y_train.csv',y_train,delimiter=',')\n",
    "np.savetxt('./SNAP_data/TrainTest/X_test.csv',X_test,delimiter=',')\n",
    "np.savetxt('./SNAP_data/TrainTest/y_test.csv',y_test,delimiter=',')"
   ]
  },
  {
   "cell_type": "code",
   "execution_count": 9,
   "id": "db2f3410-6646-4579-8954-e8bae8847731",
   "metadata": {},
   "outputs": [],
   "source": [
    "pca = PCA(n_components=10,random_state=42)\n",
    "pca.fit(X_train)\n",
    "X_train_pc = pca.transform(X_train)\n",
    "X_test_pc = pca.transform(X_test)"
   ]
  },
  {
   "cell_type": "markdown",
   "id": "82a05171-badf-4df7-8245-143ad82c71bf",
   "metadata": {},
   "source": [
    "# Models"
   ]
  },
  {
   "cell_type": "markdown",
   "id": "a1e13aad-f740-4c43-9b59-04f9c409119e",
   "metadata": {},
   "source": [
    "## Overview model selection"
   ]
  },
  {
   "cell_type": "markdown",
   "id": "2309f80a-9fee-46bc-bade-2f40a255886d",
   "metadata": {},
   "source": [
    "##### White box models"
   ]
  },
  {
   "cell_type": "markdown",
   "id": "9fbbf555-6f52-432b-8af3-0eaf6c9f1d53",
   "metadata": {},
   "source": [
    "Logistic Regression\n",
    "Decision Treee\n",
    "Rndom Forest\n",
    "Gradient\n",
    "Ada\n",
    "SVM\n",
    "Naive Bayes"
   ]
  },
  {
   "cell_type": "code",
   "execution_count": 10,
   "id": "2039739f-94d2-441b-aacc-f324a5247bcd",
   "metadata": {},
   "outputs": [],
   "source": [
    "models = {\n",
    "    'LogReg': LogisticRegression(),\n",
    "    'Decision Tree':DecisionTreeClassifier(),\n",
    "    'Random Forest':RandomForestClassifier(),\n",
    "    'Gradient Boost':GradientBoostingClassifier(),\n",
    "    'Ada Boost':AdaBoostClassifier(),\n",
    "    'SVC':SVC(),\n",
    "    'Naive Bayes':GaussianNB()}"
   ]
  },
  {
   "cell_type": "code",
   "execution_count": 11,
   "id": "23739ac7-735b-44e1-ba83-b76d6ef960b4",
   "metadata": {},
   "outputs": [],
   "source": [
    "#adapted from Dan Brown lecture\n",
    "final = pd.DataFrame(columns = ['cross_val_train','cross_val_test','test_recall','test_precision'])\n",
    "idx=0\n",
    "while idx < len(models.keys()):\n",
    "    for name,model in models.items():\n",
    "        results = {}\n",
    "        results['name']=name\n",
    "        name=model.fit(X_train, y_train)\n",
    "        y_pred_train = model.predict(X_train)\n",
    "        y_pred_test = model.predict(X_test)\n",
    "        results['cross_val_train'] = np.mean(cross_val_score(model,X_train,y_train,cv=4))\n",
    "        results['cross_val_test'] = np.mean(cross_val_score(model,X_test,y_test,cv=4))\n",
    "        results['test_recall'] = recall_score(y_test, y_pred_test)\n",
    "        results['test_precision'] = precision_score(y_test, y_pred_test)\n",
    "        final = final.append(results,ignore_index=True)\n",
    "        idx+=1"
   ]
  },
  {
   "cell_type": "code",
   "execution_count": 12,
   "id": "6f068b65-79a9-44d0-a6cf-5509f2fa4b1f",
   "metadata": {},
   "outputs": [
    {
     "data": {
      "text/html": [
       "<div>\n",
       "<style scoped>\n",
       "    .dataframe tbody tr th:only-of-type {\n",
       "        vertical-align: middle;\n",
       "    }\n",
       "\n",
       "    .dataframe tbody tr th {\n",
       "        vertical-align: top;\n",
       "    }\n",
       "\n",
       "    .dataframe thead th {\n",
       "        text-align: right;\n",
       "    }\n",
       "</style>\n",
       "<table border=\"1\" class=\"dataframe\">\n",
       "  <thead>\n",
       "    <tr style=\"text-align: right;\">\n",
       "      <th></th>\n",
       "      <th>cross_val_train</th>\n",
       "      <th>cross_val_test</th>\n",
       "      <th>test_recall</th>\n",
       "      <th>test_precision</th>\n",
       "    </tr>\n",
       "    <tr>\n",
       "      <th>name</th>\n",
       "      <th></th>\n",
       "      <th></th>\n",
       "      <th></th>\n",
       "      <th></th>\n",
       "    </tr>\n",
       "  </thead>\n",
       "  <tbody>\n",
       "    <tr>\n",
       "      <th>LogReg</th>\n",
       "      <td>0.884334</td>\n",
       "      <td>0.862628</td>\n",
       "      <td>0.900262</td>\n",
       "      <td>0.903821</td>\n",
       "    </tr>\n",
       "    <tr>\n",
       "      <th>Decision Tree</th>\n",
       "      <td>0.908492</td>\n",
       "      <td>0.907850</td>\n",
       "      <td>0.933071</td>\n",
       "      <td>0.935526</td>\n",
       "    </tr>\n",
       "    <tr>\n",
       "      <th>Random Forest</th>\n",
       "      <td>0.942167</td>\n",
       "      <td>0.930887</td>\n",
       "      <td>0.961942</td>\n",
       "      <td>0.955671</td>\n",
       "    </tr>\n",
       "    <tr>\n",
       "      <th>Gradient Boost</th>\n",
       "      <td>0.941801</td>\n",
       "      <td>0.933447</td>\n",
       "      <td>0.950131</td>\n",
       "      <td>0.960212</td>\n",
       "    </tr>\n",
       "    <tr>\n",
       "      <th>Ada Boost</th>\n",
       "      <td>0.922035</td>\n",
       "      <td>0.920648</td>\n",
       "      <td>0.937008</td>\n",
       "      <td>0.939474</td>\n",
       "    </tr>\n",
       "    <tr>\n",
       "      <th>SVC</th>\n",
       "      <td>0.884700</td>\n",
       "      <td>0.854949</td>\n",
       "      <td>0.901575</td>\n",
       "      <td>0.928378</td>\n",
       "    </tr>\n",
       "    <tr>\n",
       "      <th>Naive Bayes</th>\n",
       "      <td>0.767204</td>\n",
       "      <td>0.741468</td>\n",
       "      <td>0.833333</td>\n",
       "      <td>0.908441</td>\n",
       "    </tr>\n",
       "  </tbody>\n",
       "</table>\n",
       "</div>"
      ],
      "text/plain": [
       "                cross_val_train  cross_val_test  test_recall  test_precision\n",
       "name                                                                        \n",
       "LogReg                 0.884334        0.862628     0.900262        0.903821\n",
       "Decision Tree          0.908492        0.907850     0.933071        0.935526\n",
       "Random Forest          0.942167        0.930887     0.961942        0.955671\n",
       "Gradient Boost         0.941801        0.933447     0.950131        0.960212\n",
       "Ada Boost              0.922035        0.920648     0.937008        0.939474\n",
       "SVC                    0.884700        0.854949     0.901575        0.928378\n",
       "Naive Bayes            0.767204        0.741468     0.833333        0.908441"
      ]
     },
     "execution_count": 12,
     "metadata": {},
     "output_type": "execute_result"
    }
   ],
   "source": [
    "final.set_index('name')"
   ]
  },
  {
   "cell_type": "markdown",
   "id": "61a7ed85-856a-4073-aa25-e8b4960f8a40",
   "metadata": {},
   "source": [
    "adding PCA to the data and comparing the scores"
   ]
  },
  {
   "cell_type": "code",
   "execution_count": 13,
   "id": "d996cdcb-90bf-407a-9d0d-ee7f6a2dfcf9",
   "metadata": {},
   "outputs": [],
   "source": [
    "pc_final = pd.DataFrame(columns = ['cross_val_train','cross_val_test','test_recall','test_precision'])\n",
    "idx=0\n",
    "while idx < len(models.keys()):\n",
    "    for name,model in models.items():\n",
    "        results = {}\n",
    "        results['name']=name\n",
    "        name=model.fit(X_train_pc, y_train)\n",
    "        y_pred_train = model.predict(X_train_pc)\n",
    "        y_pred_test = model.predict(X_test_pc)\n",
    "        results['cross_val_train'] = np.mean(cross_val_score(model,X_train_pc,y_train,cv=4))\n",
    "        results['cross_val_test'] = np.mean(cross_val_score(model,X_test_pc,y_test,cv=4))\n",
    "        results['test_recall'] = recall_score(y_test, y_pred_test)\n",
    "        results['test_precision'] = precision_score(y_test, y_pred_test)\n",
    "        pc_final = pc_final.append(results,ignore_index=True)\n",
    "        idx+=1"
   ]
  },
  {
   "cell_type": "code",
   "execution_count": 14,
   "id": "87fcf2d6-1276-4e0d-bb65-dcb785b110d2",
   "metadata": {},
   "outputs": [
    {
     "data": {
      "text/html": [
       "<div>\n",
       "<style scoped>\n",
       "    .dataframe tbody tr th:only-of-type {\n",
       "        vertical-align: middle;\n",
       "    }\n",
       "\n",
       "    .dataframe tbody tr th {\n",
       "        vertical-align: top;\n",
       "    }\n",
       "\n",
       "    .dataframe thead th {\n",
       "        text-align: right;\n",
       "    }\n",
       "</style>\n",
       "<table border=\"1\" class=\"dataframe\">\n",
       "  <thead>\n",
       "    <tr style=\"text-align: right;\">\n",
       "      <th></th>\n",
       "      <th>cross_val_train</th>\n",
       "      <th>cross_val_test</th>\n",
       "      <th>test_recall</th>\n",
       "      <th>test_precision</th>\n",
       "    </tr>\n",
       "    <tr>\n",
       "      <th>name</th>\n",
       "      <th></th>\n",
       "      <th></th>\n",
       "      <th></th>\n",
       "      <th></th>\n",
       "    </tr>\n",
       "  </thead>\n",
       "  <tbody>\n",
       "    <tr>\n",
       "      <th>LogReg</th>\n",
       "      <td>0.783675</td>\n",
       "      <td>0.763652</td>\n",
       "      <td>0.892388</td>\n",
       "      <td>0.770102</td>\n",
       "    </tr>\n",
       "    <tr>\n",
       "      <th>Decision Tree</th>\n",
       "      <td>0.832723</td>\n",
       "      <td>0.810580</td>\n",
       "      <td>0.888451</td>\n",
       "      <td>0.872423</td>\n",
       "    </tr>\n",
       "    <tr>\n",
       "      <th>Random Forest</th>\n",
       "      <td>0.885798</td>\n",
       "      <td>0.857509</td>\n",
       "      <td>0.931759</td>\n",
       "      <td>0.899873</td>\n",
       "    </tr>\n",
       "    <tr>\n",
       "      <th>Gradient Boost</th>\n",
       "      <td>0.877379</td>\n",
       "      <td>0.860922</td>\n",
       "      <td>0.908136</td>\n",
       "      <td>0.882653</td>\n",
       "    </tr>\n",
       "    <tr>\n",
       "      <th>Ada Boost</th>\n",
       "      <td>0.852855</td>\n",
       "      <td>0.848123</td>\n",
       "      <td>0.900262</td>\n",
       "      <td>0.879487</td>\n",
       "    </tr>\n",
       "    <tr>\n",
       "      <th>SVC</th>\n",
       "      <td>0.831991</td>\n",
       "      <td>0.834471</td>\n",
       "      <td>0.874016</td>\n",
       "      <td>0.871728</td>\n",
       "    </tr>\n",
       "    <tr>\n",
       "      <th>Naive Bayes</th>\n",
       "      <td>0.726940</td>\n",
       "      <td>0.713311</td>\n",
       "      <td>0.958005</td>\n",
       "      <td>0.692600</td>\n",
       "    </tr>\n",
       "  </tbody>\n",
       "</table>\n",
       "</div>"
      ],
      "text/plain": [
       "                cross_val_train  cross_val_test  test_recall  test_precision\n",
       "name                                                                        \n",
       "LogReg                 0.783675        0.763652     0.892388        0.770102\n",
       "Decision Tree          0.832723        0.810580     0.888451        0.872423\n",
       "Random Forest          0.885798        0.857509     0.931759        0.899873\n",
       "Gradient Boost         0.877379        0.860922     0.908136        0.882653\n",
       "Ada Boost              0.852855        0.848123     0.900262        0.879487\n",
       "SVC                    0.831991        0.834471     0.874016        0.871728\n",
       "Naive Bayes            0.726940        0.713311     0.958005        0.692600"
      ]
     },
     "execution_count": 14,
     "metadata": {},
     "output_type": "execute_result"
    }
   ],
   "source": [
    "pc_final.set_index('name')"
   ]
  },
  {
   "cell_type": "markdown",
   "id": "52d2c1f1-784a-4bbc-902d-63711e1d08ec",
   "metadata": {},
   "source": [
    "# Model Selection"
   ]
  },
  {
   "cell_type": "markdown",
   "id": "bac0f231-2fb6-4c1a-9842-a926b241f721",
   "metadata": {},
   "source": [
    "The best performing models are Random Forest and Gradient Boost without PCA. PCA seemed to exaggerate overfitting on all models. The Gradient Boost has the least overfitting. Therefore, I will GridSearch over a RandomForest with Gradient Boost. Just to make sure, I will check out the classification report for each model to verify each class is represented fairly well."
   ]
  },
  {
   "cell_type": "code",
   "execution_count": 15,
   "id": "d9c884d8-c428-4b10-961b-28f9a462d046",
   "metadata": {},
   "outputs": [
    {
     "name": "stdout",
     "output_type": "stream",
     "text": [
      "LogisticRegression()\n",
      "              precision    recall  f1-score   support\n",
      "\n",
      "         0.0       0.82      0.82      0.82       410\n",
      "         1.0       0.90      0.90      0.90       762\n",
      "\n",
      "    accuracy                           0.87      1172\n",
      "   macro avg       0.86      0.86      0.86      1172\n",
      "weighted avg       0.87      0.87      0.87      1172\n",
      "\n",
      "\n",
      "\n",
      "DecisionTreeClassifier()\n",
      "              precision    recall  f1-score   support\n",
      "\n",
      "         0.0       0.88      0.88      0.88       410\n",
      "         1.0       0.93      0.94      0.94       762\n",
      "\n",
      "    accuracy                           0.92      1172\n",
      "   macro avg       0.91      0.91      0.91      1172\n",
      "weighted avg       0.92      0.92      0.92      1172\n",
      "\n",
      "\n",
      "\n",
      "RandomForestClassifier()\n",
      "              precision    recall  f1-score   support\n",
      "\n",
      "         0.0       0.94      0.92      0.93       410\n",
      "         1.0       0.96      0.97      0.96       762\n",
      "\n",
      "    accuracy                           0.95      1172\n",
      "   macro avg       0.95      0.94      0.95      1172\n",
      "weighted avg       0.95      0.95      0.95      1172\n",
      "\n",
      "\n",
      "\n",
      "GradientBoostingClassifier()\n",
      "              precision    recall  f1-score   support\n",
      "\n",
      "         0.0       0.91      0.93      0.92       410\n",
      "         1.0       0.96      0.95      0.96       762\n",
      "\n",
      "    accuracy                           0.94      1172\n",
      "   macro avg       0.93      0.94      0.94      1172\n",
      "weighted avg       0.94      0.94      0.94      1172\n",
      "\n",
      "\n",
      "\n",
      "AdaBoostClassifier()\n",
      "              precision    recall  f1-score   support\n",
      "\n",
      "         0.0       0.88      0.89      0.89       410\n",
      "         1.0       0.94      0.94      0.94       762\n",
      "\n",
      "    accuracy                           0.92      1172\n",
      "   macro avg       0.91      0.91      0.91      1172\n",
      "weighted avg       0.92      0.92      0.92      1172\n",
      "\n",
      "\n",
      "\n",
      "SVC()\n",
      "              precision    recall  f1-score   support\n",
      "\n",
      "         0.0       0.83      0.87      0.85       410\n",
      "         1.0       0.93      0.90      0.91       762\n",
      "\n",
      "    accuracy                           0.89      1172\n",
      "   macro avg       0.88      0.89      0.88      1172\n",
      "weighted avg       0.89      0.89      0.89      1172\n",
      "\n",
      "\n",
      "\n",
      "GaussianNB()\n",
      "              precision    recall  f1-score   support\n",
      "\n",
      "         0.0       0.73      0.84      0.78       410\n",
      "         1.0       0.91      0.83      0.87       762\n",
      "\n",
      "    accuracy                           0.84      1172\n",
      "   macro avg       0.82      0.84      0.83      1172\n",
      "weighted avg       0.85      0.84      0.84      1172\n",
      "\n",
      "\n",
      "\n"
     ]
    }
   ],
   "source": [
    "for name,model in models.items():\n",
    "    name = model.fit(X_train,y_train)\n",
    "    y_pred_train = model.predict(X_train)\n",
    "    y_pred_test = model.predict(X_test)\n",
    "    print(name)\n",
    "    print(classification_report(y_test, y_pred_test))\n",
    "    print('\\n')"
   ]
  },
  {
   "cell_type": "markdown",
   "id": "a0290fe3-a7ec-4797-83f4-11ac513c8ad1",
   "metadata": {},
   "source": [
    "What we see is that Random Forest and Gradient Boosting represent the classes most fairly among all other models. Since there is an imbalance of classes for the target variable (2007 data had some people who qualified and some who didn't, whereas everyone qualified for SNAP in 2017) I would expect boosting would be essential to this model."
   ]
  },
  {
   "cell_type": "markdown",
   "id": "dde1dce6-447e-4bbe-93e6-a8186db97c27",
   "metadata": {},
   "source": [
    "# Running Models"
   ]
  },
  {
   "cell_type": "markdown",
   "id": "34176dbd-b41f-402f-823e-b0e4c01bac34",
   "metadata": {},
   "source": [
    "### Random Forest"
   ]
  },
  {
   "cell_type": "markdown",
   "id": "02780cd3-8ad3-4941-a53e-31af71f6da12",
   "metadata": {},
   "source": [
    "I will start with Random Forest for interpretability."
   ]
  },
  {
   "cell_type": "code",
   "execution_count": 16,
   "id": "7b7a993f-009b-4240-8ad9-ae9687b6e766",
   "metadata": {},
   "outputs": [
    {
     "name": "stdout",
     "output_type": "stream",
     "text": [
      "0.9432649617293128\n"
     ]
    },
    {
     "data": {
      "text/plain": [
       "{'max_depth': None, 'max_features': 'auto', 'n_estimators': 75}"
      ]
     },
     "execution_count": 16,
     "metadata": {},
     "output_type": "execute_result"
    }
   ],
   "source": [
    "rf = RandomForestClassifier()\n",
    "params={'max_depth':[None,3,4],\n",
    "       'max_features':[None,'auto'],\n",
    "       'n_estimators':[75,100,125]}\n",
    "rf_gs = GridSearchCV(rf,param_grid=params)\n",
    "rf_gs.fit(X_train,y_train)\n",
    "print(rf_gs.best_score_)\n",
    "rf_gs.best_params_"
   ]
  },
  {
   "cell_type": "markdown",
   "id": "f7575baa-8884-4f9a-a5ba-696f90c75df8",
   "metadata": {},
   "source": [
    "The result shows the defaults were the best model"
   ]
  },
  {
   "cell_type": "code",
   "execution_count": 17,
   "id": "af0835fd-df65-473b-b901-5a04da3b2ab0",
   "metadata": {},
   "outputs": [
    {
     "data": {
      "text/plain": [
       "RandomForestClassifier()"
      ]
     },
     "execution_count": 17,
     "metadata": {},
     "output_type": "execute_result"
    }
   ],
   "source": [
    "rf = RandomForestClassifier()\n",
    "rf.fit(X_train,y_train)"
   ]
  },
  {
   "cell_type": "markdown",
   "id": "beff7fb6-f79c-466b-9614-8d5947c6c151",
   "metadata": {},
   "source": [
    "Following code adapted from \"Demystify the random forest\" and \"Visualizing Dot-Whisker Regression Coefficients in Python\""
   ]
  },
  {
   "cell_type": "code",
   "execution_count": 18,
   "id": "622db5c8-5dd8-4b3c-8eff-a26f050ef49e",
   "metadata": {},
   "outputs": [
    {
     "data": {
      "text/plain": [
       "array([[-0.24501332, -0.03517855, -0.76825854, -0.88061189,  1.78070948,\n",
       "        -0.34230342, -0.59758589,  1.00652396,  1.02614408, -0.51614194,\n",
       "        -0.87253073, -1.25472977, -0.59800159, -1.59315573, -1.28640995,\n",
       "         0.39411313, -0.59885312, -0.91848291, -0.36488324, -0.40909055,\n",
       "        -1.49056789,  1.0459183 , -0.51403261, -0.24309398, -0.56404251,\n",
       "        -0.55893964,  1.02614408, -0.42833737, -0.8826584 , -0.1335093 ,\n",
       "        -0.35352552, -0.02833014]])"
      ]
     },
     "execution_count": 18,
     "metadata": {},
     "output_type": "execute_result"
    }
   ],
   "source": [
    "instances = X_test[[735]]\n",
    "instances"
   ]
  },
  {
   "cell_type": "code",
   "execution_count": 19,
   "id": "38bcb50e-d661-402c-9c59-7a0f319a1623",
   "metadata": {},
   "outputs": [
    {
     "name": "stdout",
     "output_type": "stream",
     "text": [
      "Prediction [[0.62 0.38]]\n",
      "Bias (trainset prior) [[0.33166179 0.66833821]]\n",
      "Feature contributions:\n",
      "LIQRESOR [-0.02830558  0.02830558]\n",
      "REALPROP [0. 0.]\n",
      "WRK_POOR [-0.00219611  0.00219611]\n",
      "RAWNET [-0.00771081  0.00771081]\n",
      "FSNONCIT [ 0.03638335 -0.03638335]\n",
      "FSTANF [ 0.02716141 -0.02716141]\n",
      "FSERNDED [-0.01895016  0.01895016]\n",
      "SHELDED [ 0.10494324 -0.10494324]\n",
      "CERTHHSZ [ 0.01237563 -0.01237563]\n",
      "HWGT [ 0.06635039 -0.06635039]\n",
      "FSSLTDE2 [-0.00896388  0.00896388]\n",
      "FSGRINC [ 0.00231503 -0.00231503]\n",
      "FSEARN [-0.01054933  0.01054933]\n",
      "FSSTDDE2 [ 0.0415335 -0.0415335]\n",
      "FSTOTDE2 [ 0.00067162 -0.00067162]\n",
      "FSTOTDED [-0.0622866  0.0622866]\n",
      "RAWERND [-0.01414355  0.01414355]\n",
      "FSUNEARN [ 0.03068616 -0.03068616]\n",
      "TANF_IND [ 0.02268685 -0.02268685]\n",
      "FSNELDER [-8.55908788e-05  8.55908788e-05]\n",
      "TPOV [ 0.01172025 -0.01172025]\n",
      "FSSLTDED [ 0.12133827 -0.12133827]\n",
      "FSDIS [ 0.000401 -0.000401]\n",
      "FSASSET [-0.03038995  0.03038995]\n",
      "FSERNDE2 [-0.00806395  0.00806395]\n",
      "FSWAGES [-0.00642288  0.00642288]\n",
      "FSUSIZE [-0.00019012  0.00019012]\n",
      "FSSSI [ 0.01776533 -0.01776533]\n",
      "FSNETINC [-0.00188869  0.00188869]\n",
      "FSGA [ 0.0052981 -0.0052981]\n",
      "VEHICLEA [-0.01314471  0.01314471]\n",
      "FSVEHAST [0. 0.]\n"
     ]
    }
   ],
   "source": [
    "ft_list = []\n",
    "prediction, bias, contributions = ti.predict(rf, instances)\n",
    "print( \"Prediction\", prediction)\n",
    "print( \"Bias (trainset prior)\", bias)\n",
    "print (\"Feature contributions:\")\n",
    "for c, feature in zip(contributions[0], \n",
    "                             X.columns):\n",
    "    ft_list.append((feature, np.round(c, 2)))\n",
    "    print (feature, c)\n",
    "    \n",
    "labels, values = zip(*ft_list)"
   ]
  },
  {
   "cell_type": "code",
   "execution_count": 20,
   "id": "be7c8287-a5c6-42e7-a5dd-344186c710a4",
   "metadata": {},
   "outputs": [],
   "source": [
    "df1 = pd.DataFrame(ft_list,columns=['feature','array'])\n",
    "df2 = pd.DataFrame(df1[\"array\"].to_list(), columns=['pred_0', 'pred_1'])\n",
    "coef_df = pd.concat([df1,df2],axis=1).drop(columns=['array'])\n",
    "coef_df.to_csv('./SNAP_data/2018_indicators/coef.csv',index=None)"
   ]
  },
  {
   "cell_type": "code",
   "execution_count": 21,
   "id": "ff05ff8d-8988-4772-804c-0ff16011019d",
   "metadata": {},
   "outputs": [
    {
     "data": {
      "image/png": "[encoded data removed]",
      "text/plain": [
       "<Figure size 1440x720 with 1 Axes>"
      ]
     },
     "metadata": {
      "needs_background": "light"
     },
     "output_type": "display_data"
    }
   ],
   "source": [
    "fig, ax = plt.subplots(figsize=(20,10))\n",
    "plt.title('Random Forest range of Coefficients Effect on SNAP \\n (the larger the range, the more impact on predicting SNAP)')\n",
    "plt.grid(zorder=0,alpha = 0.2)\n",
    "xs = np.arange(len(labels))\n",
    "ax.bar(xs,coef_df['pred_0'], label = 'pred 0')\n",
    "ax.bar(xs,coef_df['pred_1'],label = 'pred 1')\n",
    "ax.axhline(y=0, linestyle='--', color='black', linewidth=4)\n",
    "ax.set_xticks(coef_df.index)\n",
    "ax.set_xticklabels(coef_df['feature'],rotation = 45)\n",
    "plt.legend()\n",
    "plt.savefig('./images/rf_corr.png');"
   ]
  },
  {
   "cell_type": "markdown",
   "id": "f04d364f-eb54-4c63-95b6-650074e00915",
   "metadata": {},
   "source": [
    "# Extra Tree Classifier"
   ]
  },
  {
   "cell_type": "markdown",
   "id": "81f5fd89-8a3f-4547-ad84-3c49c261e678",
   "metadata": {},
   "source": [
    "I will compare a gridsearch Extra Tree classifier to see if it should be added to the ensemble."
   ]
  },
  {
   "cell_type": "code",
   "execution_count": 22,
   "id": "809c48cc-0e2d-4bcb-b358-40571f82347c",
   "metadata": {},
   "outputs": [
    {
     "name": "stdout",
     "output_type": "stream",
     "text": [
      "0.8400305361914138\n"
     ]
    },
    {
     "data": {
      "text/plain": [
       "{'max_depth': None, 'max_features': None, 'max_leaf_nodes': 10}"
      ]
     },
     "execution_count": 22,
     "metadata": {},
     "output_type": "execute_result"
    }
   ],
   "source": [
    "et = ExtraTreeClassifier()\n",
    "params={'max_depth':[None,3,4],\n",
    "       'max_features':[None,'auto'],\n",
    "       'max_leaf_nodes':[5,10]}\n",
    "et_gs = GridSearchCV(et,param_grid=params)\n",
    "et_gs.fit(X_train,y_train)\n",
    "print(et_gs.best_score_)\n",
    "et_gs.best_params_"
   ]
  },
  {
   "cell_type": "markdown",
   "id": "0865c193-4389-4cfe-979b-4bb6f74697bc",
   "metadata": {},
   "source": [
    "It seems the random with replacement that isn't offered in the Extra Tree Classifier is important to predicting SNAP eligibility. Further magnifying the more than slight class imbalance of the target column. Therefore, Extra Tree Classifier will not be used in the Ensemble."
   ]
  },
  {
   "cell_type": "markdown",
   "id": "2cb28538-da95-421c-a43c-6e2be05da138",
   "metadata": {},
   "source": [
    "### Bagging Classifier"
   ]
  },
  {
   "cell_type": "markdown",
   "id": "6b435d28-c774-46b1-82de-3522666b3944",
   "metadata": {},
   "source": [
    "Since there is slight overfitting due to less variability in my target class, I will test a bagging classifier to see if I should place it in my Vote Ensemble."
   ]
  },
  {
   "cell_type": "code",
   "execution_count": 23,
   "id": "7ffd92e4-3dd0-47d5-9c32-22259522c130",
   "metadata": {},
   "outputs": [
    {
     "name": "stdout",
     "output_type": "stream",
     "text": [
      "cross_val_train = 0.7269399707174231\n",
      "cross_val_test = 0.7133105802047782\n",
      "test_recall = 0.9540682414698163\n",
      "test_precision = 0.9528178243774574\n"
     ]
    }
   ],
   "source": [
    "bag = BaggingClassifier()\n",
    "bag.fit(X_train,y_train)\n",
    "y_pred_train = bag.predict(X_train)\n",
    "y_pred_test = bag.predict(X_test)\n",
    "print(f'cross_val_train = {np.mean(cross_val_score(model,X_train_pc,y_train,cv=4))}')\n",
    "print(f'cross_val_test = {np.mean(cross_val_score(model,X_test_pc,y_test,cv=4))}')\n",
    "print(f'test_recall = {recall_score(y_test, y_pred_test)}')\n",
    "print(f'test_precision = {precision_score(y_test, y_pred_test)}')"
   ]
  },
  {
   "cell_type": "markdown",
   "id": "17ba6bcf-6c02-4735-9748-72e777fa1bf8",
   "metadata": {},
   "source": [
    "The cross val score is actually pretty low for both train and test, but it doesn't appear to be overfitting. The test recall and precision is actually very high, meaning it is predicting positives very acurately. I will therefore add it to my vote ensemble. Because predicting positive (ie. those that are projected to be on SNAP) is more beneficial in targeting groups that are at risk."
   ]
  },
  {
   "cell_type": "markdown",
   "id": "943387b3-93d3-452a-971f-bc82f4e11949",
   "metadata": {},
   "source": [
    "### Vote Ensemble Random Forest"
   ]
  },
  {
   "cell_type": "markdown",
   "id": "98d4186b-9a23-43ab-89f7-23700f506b23",
   "metadata": {},
   "source": [
    "Now I am moving into the black box models by gridsearching through a Gradient Boosting and Bagging Classifier Vote Ensemble. Which was run in another notebook. I also have the same notebook as a backup python script in case the Gridsearch was not able to complete on my local machine I could run the python script in AWS. The results of that script are as follows:\n"
   ]
  },
  {
   "cell_type": "code",
   "execution_count": 24,
   "id": "d78bc3ab-b671-41ad-a463-9f70b1992ff0",
   "metadata": {},
   "outputs": [
    {
     "data": {
      "text/plain": [
       "{'bag__n_estimators': 10,\n",
       " 'gb__max_depth': 10,\n",
       " 'gb__subsample': 0.8,\n",
       " 'rf__bootstrap': False,\n",
       " 'rf__max_depth': None,\n",
       " 'rf__n_estimators': 1000}"
      ]
     },
     "execution_count": 24,
     "metadata": {},
     "output_type": "execute_result"
    }
   ],
   "source": [
    "0.9509512425417362\n",
    "{'bag__n_estimators': 10,\n",
    " 'gb__max_depth': 10,\n",
    " 'gb__subsample': 0.8,\n",
    " 'rf__bootstrap': False,\n",
    " 'rf__max_depth': None,\n",
    " 'rf__n_estimators': 1000}"
   ]
  },
  {
   "cell_type": "markdown",
   "id": "c80c453d-ed10-42d7-b466-5aaf45c4b919",
   "metadata": {},
   "source": [
    "# Final Model"
   ]
  },
  {
   "cell_type": "code",
   "execution_count": 25,
   "id": "7e7fcc6b-541b-4e01-a38f-bc7cfad257dd",
   "metadata": {},
   "outputs": [],
   "source": [
    "vote = VotingClassifier([\n",
    "    ('rf',RandomForestClassifier(bootstrap=False,n_estimators=1000)),\n",
    "    ('gb',GradientBoostingClassifier(max_depth=10,subsample=0.8)),\n",
    "    ('bag',BaggingClassifier(n_estimators = 10))\n",
    "])"
   ]
  },
  {
   "cell_type": "code",
   "execution_count": 26,
   "id": "3ff00c44-9438-40ac-b3d9-a4320273da6a",
   "metadata": {},
   "outputs": [
    {
     "data": {
      "text/plain": [
       "VotingClassifier(estimators=[('rf',\n",
       "                              RandomForestClassifier(bootstrap=False,\n",
       "                                                     n_estimators=1000)),\n",
       "                             ('gb',\n",
       "                              GradientBoostingClassifier(max_depth=10,\n",
       "                                                         subsample=0.8)),\n",
       "                             ('bag', BaggingClassifier())])"
      ]
     },
     "execution_count": 26,
     "metadata": {},
     "output_type": "execute_result"
    }
   ],
   "source": [
    "vote.fit(X_train,y_train)"
   ]
  },
  {
   "cell_type": "code",
   "execution_count": 27,
   "id": "1064cf41-e181-42b3-9ad7-9a0583302e1a",
   "metadata": {},
   "outputs": [],
   "source": [
    "filename = 'final_model.sav'\n",
    "pickle.dump(vote, open(filename, 'wb'))"
   ]
  },
  {
   "cell_type": "code",
   "execution_count": 33,
   "id": "8bb26d5c-1d61-4857-a76f-eb105fc3ead1",
   "metadata": {},
   "outputs": [
    {
     "name": "stdout",
     "output_type": "stream",
     "text": [
      "0.9450957939074941\n"
     ]
    },
    {
     "data": {
      "text/plain": [
       "{'max_depth': None, 'max_features': 'auto', 'n_estimators': 75}"
      ]
     },
     "execution_count": 33,
     "metadata": {},
     "output_type": "execute_result"
    }
   ],
   "source": [
    "rf = RandomForestClassifier()\n",
    "params={'max_depth':[None,3,4],\n",
    "       'max_features':[None,'auto'],\n",
    "        'n_estimators':[75,100,125]}\n",
    "rf_gs = GridSearchCV(rf,param_grid=params)\n",
    "rf_gs.fit(X_train,y_train)\n",
    "print(rf_gs.best_score_)\n",
    "rf_gs.best_params_"
   ]
  },
  {
   "cell_type": "code",
   "execution_count": 29,
   "id": "e25ce682-1a9f-4b12-855d-18f43a380c63",
   "metadata": {},
   "outputs": [
    {
     "name": "stdout",
     "output_type": "stream",
     "text": [
      "0.9436279138290107\n"
     ]
    },
    {
     "name": "stderr",
     "output_type": "stream",
     "text": [
      "C:\\Users\\Bhakt\\anaconda3\\lib\\site-packages\\sklearn\\model_selection\\_validation.py:372: FitFailedWarning: \n",
      "30 fits failed out of a total of 90.\n",
      "The score on these train-test partitions for these parameters will be set to nan.\n",
      "If these failures are not expected, you can try to debug them by setting error_score='raise'.\n",
      "\n",
      "Below are more details about the failures:\n",
      "--------------------------------------------------------------------------------\n",
      "30 fits failed with the following error:\n",
      "Traceback (most recent call last):\n",
      "  File \"C:\\Users\\Bhakt\\anaconda3\\lib\\site-packages\\sklearn\\model_selection\\_validation.py\", line 681, in _fit_and_score\n",
      "    estimator.fit(X_train, y_train, **fit_params)\n",
      "  File \"C:\\Users\\Bhakt\\anaconda3\\lib\\site-packages\\sklearn\\ensemble\\_forest.py\", line 441, in fit\n",
      "    trees = Parallel(\n",
      "  File \"C:\\Users\\Bhakt\\anaconda3\\lib\\site-packages\\joblib\\parallel.py\", line 1041, in __call__\n",
      "    if self.dispatch_one_batch(iterator):\n",
      "  File \"C:\\Users\\Bhakt\\anaconda3\\lib\\site-packages\\joblib\\parallel.py\", line 859, in dispatch_one_batch\n",
      "    self._dispatch(tasks)\n",
      "  File \"C:\\Users\\Bhakt\\anaconda3\\lib\\site-packages\\joblib\\parallel.py\", line 777, in _dispatch\n",
      "    job = self._backend.apply_async(batch, callback=cb)\n",
      "  File \"C:\\Users\\Bhakt\\anaconda3\\lib\\site-packages\\joblib\\_parallel_backends.py\", line 208, in apply_async\n",
      "    result = ImmediateResult(func)\n",
      "  File \"C:\\Users\\Bhakt\\anaconda3\\lib\\site-packages\\joblib\\_parallel_backends.py\", line 572, in __init__\n",
      "    self.results = batch()\n",
      "  File \"C:\\Users\\Bhakt\\anaconda3\\lib\\site-packages\\joblib\\parallel.py\", line 262, in __call__\n",
      "    return [func(*args, **kwargs)\n",
      "  File \"C:\\Users\\Bhakt\\anaconda3\\lib\\site-packages\\joblib\\parallel.py\", line 262, in <listcomp>\n",
      "    return [func(*args, **kwargs)\n",
      "  File \"C:\\Users\\Bhakt\\anaconda3\\lib\\site-packages\\sklearn\\utils\\fixes.py\", line 209, in __call__\n",
      "    return self.function(*args, **kwargs)\n",
      "  File \"C:\\Users\\Bhakt\\anaconda3\\lib\\site-packages\\sklearn\\ensemble\\_forest.py\", line 184, in _parallel_build_trees\n",
      "    tree.fit(X, y, sample_weight=curr_sample_weight, check_input=False)\n",
      "  File \"C:\\Users\\Bhakt\\anaconda3\\lib\\site-packages\\sklearn\\tree\\_classes.py\", line 937, in fit\n",
      "    super().fit(\n",
      "  File \"C:\\Users\\Bhakt\\anaconda3\\lib\\site-packages\\sklearn\\tree\\_classes.py\", line 281, in fit\n",
      "    raise ValueError(\n",
      "ValueError: Invalid value for max_features. Allowed string values are 'auto', 'sqrt' or 'log2'.\n",
      "\n",
      "  warnings.warn(some_fits_failed_message, FitFailedWarning)\n",
      "C:\\Users\\Bhakt\\anaconda3\\lib\\site-packages\\sklearn\\model_selection\\_search.py:969: UserWarning: One or more of the test scores are non-finite: [0.93154804 0.93776979 0.93960464 0.94362791        nan        nan\n",
      " 0.83637892 0.83967428 0.7719576  0.76939483        nan        nan\n",
      " 0.9176447  0.92203494 0.89385057 0.89055387        nan        nan]\n",
      "  warnings.warn(\n"
     ]
    },
    {
     "data": {
      "text/plain": [
       "{'max_depth': None, 'max_features': 'auto', 'n_estimators': 50}"
      ]
     },
     "execution_count": 29,
     "metadata": {},
     "output_type": "execute_result"
    }
   ],
   "source": [
    "rf = RandomForestClassifier()\n",
    "params={'max_depth':[None,2,5],\n",
    "       'max_features':[None,'auto','log'],\n",
    "        'n_estimators':[25,50]}\n",
    "rf_gs = GridSearchCV(rf,param_grid=params)\n",
    "rf_gs.fit(X_train,y_train)\n",
    "print(rf_gs.best_score_)\n",
    "rf_gs.best_params_"
   ]
  },
  {
   "cell_type": "code",
   "execution_count": 30,
   "id": "9a09ab62-02af-4c4d-a11d-91febb5a0abf",
   "metadata": {},
   "outputs": [
    {
     "name": "stdout",
     "output_type": "stream",
     "text": [
      "0.9439962231552725\n"
     ]
    },
    {
     "data": {
      "text/plain": [
       "{'max_depth': None, 'max_features': 'auto', 'n_estimators': 60}"
      ]
     },
     "execution_count": 30,
     "metadata": {},
     "output_type": "execute_result"
    }
   ],
   "source": [
    "rf = RandomForestClassifier()\n",
    "params={'max_depth':[None,10,15],\n",
    "       'max_features':[None,'auto','sqrt'],\n",
    "        'n_estimators':[20,40,60]}\n",
    "rf_gs = GridSearchCV(rf,param_grid=params)\n",
    "rf_gs.fit(X_train,y_train)\n",
    "print(rf_gs.best_score_)\n",
    "rf_gs.best_params_"
   ]
  },
  {
   "cell_type": "code",
   "execution_count": 31,
   "id": "526924d0-7cb7-4748-af19-a13482282e7e",
   "metadata": {},
   "outputs": [
    {
     "name": "stderr",
     "output_type": "stream",
     "text": [
      "C:\\Users\\Bhakt\\anaconda3\\lib\\site-packages\\sklearn\\model_selection\\_validation.py:372: FitFailedWarning: \n",
      "30 fits failed out of a total of 90.\n",
      "The score on these train-test partitions for these parameters will be set to nan.\n",
      "If these failures are not expected, you can try to debug them by setting error_score='raise'.\n",
      "\n",
      "Below are more details about the failures:\n",
      "--------------------------------------------------------------------------------\n",
      "30 fits failed with the following error:\n",
      "Traceback (most recent call last):\n",
      "  File \"C:\\Users\\Bhakt\\anaconda3\\lib\\site-packages\\sklearn\\model_selection\\_validation.py\", line 681, in _fit_and_score\n",
      "    estimator.fit(X_train, y_train, **fit_params)\n",
      "  File \"C:\\Users\\Bhakt\\anaconda3\\lib\\site-packages\\sklearn\\ensemble\\_forest.py\", line 441, in fit\n",
      "    trees = Parallel(\n",
      "  File \"C:\\Users\\Bhakt\\anaconda3\\lib\\site-packages\\joblib\\parallel.py\", line 1041, in __call__\n",
      "    if self.dispatch_one_batch(iterator):\n",
      "  File \"C:\\Users\\Bhakt\\anaconda3\\lib\\site-packages\\joblib\\parallel.py\", line 859, in dispatch_one_batch\n",
      "    self._dispatch(tasks)\n",
      "  File \"C:\\Users\\Bhakt\\anaconda3\\lib\\site-packages\\joblib\\parallel.py\", line 777, in _dispatch\n",
      "    job = self._backend.apply_async(batch, callback=cb)\n",
      "  File \"C:\\Users\\Bhakt\\anaconda3\\lib\\site-packages\\joblib\\_parallel_backends.py\", line 208, in apply_async\n",
      "    result = ImmediateResult(func)\n",
      "  File \"C:\\Users\\Bhakt\\anaconda3\\lib\\site-packages\\joblib\\_parallel_backends.py\", line 572, in __init__\n",
      "    self.results = batch()\n",
      "  File \"C:\\Users\\Bhakt\\anaconda3\\lib\\site-packages\\joblib\\parallel.py\", line 262, in __call__\n",
      "    return [func(*args, **kwargs)\n",
      "  File \"C:\\Users\\Bhakt\\anaconda3\\lib\\site-packages\\joblib\\parallel.py\", line 262, in <listcomp>\n",
      "    return [func(*args, **kwargs)\n",
      "  File \"C:\\Users\\Bhakt\\anaconda3\\lib\\site-packages\\sklearn\\utils\\fixes.py\", line 209, in __call__\n",
      "    return self.function(*args, **kwargs)\n",
      "  File \"C:\\Users\\Bhakt\\anaconda3\\lib\\site-packages\\sklearn\\ensemble\\_forest.py\", line 184, in _parallel_build_trees\n",
      "    tree.fit(X, y, sample_weight=curr_sample_weight, check_input=False)\n",
      "  File \"C:\\Users\\Bhakt\\anaconda3\\lib\\site-packages\\sklearn\\tree\\_classes.py\", line 937, in fit\n",
      "    super().fit(\n",
      "  File \"C:\\Users\\Bhakt\\anaconda3\\lib\\site-packages\\sklearn\\tree\\_classes.py\", line 281, in fit\n",
      "    raise ValueError(\n",
      "ValueError: Invalid value for max_features. Allowed string values are 'auto', 'sqrt' or 'log2'.\n",
      "\n",
      "  warnings.warn(some_fits_failed_message, FitFailedWarning)\n",
      "C:\\Users\\Bhakt\\anaconda3\\lib\\site-packages\\sklearn\\model_selection\\_search.py:969: UserWarning: One or more of the test scores are non-finite: [0.93374316 0.93594029 0.94472882 0.94216405        nan        nan\n",
      " 0.93520836 0.93411214 0.94363193 0.94436319        nan        nan\n",
      " 0.9374055  0.93301257 0.94436252 0.94326295        nan        nan]\n",
      "  warnings.warn(\n"
     ]
    },
    {
     "name": "stdout",
     "output_type": "stream",
     "text": [
      "0.9447288238878733\n"
     ]
    },
    {
     "data": {
      "text/plain": [
       "{'max_depth': None, 'max_features': 'sqrt', 'n_estimators': 100}"
      ]
     },
     "execution_count": 31,
     "metadata": {},
     "output_type": "execute_result"
    }
   ],
   "source": [
    "rf = RandomForestClassifier()\n",
    "params={'max_depth':[None,20,50],\n",
    "       'max_features':[None,'sqrt','log'],\n",
    "        'n_estimators':[100,200]}\n",
    "rf_gs = GridSearchCV(rf,param_grid=params)\n",
    "rf_gs.fit(X_train,y_train)\n",
    "print(rf_gs.best_score_)\n",
    "rf_gs.best_params_"
   ]
  },
  {
   "cell_type": "code",
   "execution_count": null,
   "id": "768bb93a-912c-4b5e-9d74-31b631c453a8",
   "metadata": {},
   "outputs": [],
   "source": []
  }
 ],
 "metadata": {
  "kernelspec": {
   "display_name": "Python 3",
   "language": "python",
   "name": "python3"
  },
  "language_info": {
   "codemirror_mode": {
    "name": "ipython",
    "version": 3
   },
   "file_extension": ".py",
   "mimetype": "text/x-python",
   "name": "python",
   "nbconvert_exporter": "python",
   "pygments_lexer": "ipython3",
   "version": "3.8.8"
  }
 },
 "nbformat": 4,
 "nbformat_minor": 5
}
